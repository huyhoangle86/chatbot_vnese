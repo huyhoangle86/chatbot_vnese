{
 "cells": [
  {
   "cell_type": "code",
   "execution_count": null,
   "source": [
    "from transformers import PhobertTokenizer\r\n",
    "from underthesea import word_tokenize\r\n",
    "\r\n",
    "tokenizer = PhobertTokenizer.from_pretrained(\"vinai/phobert-base\", use_fast=False)"
   ],
   "outputs": [],
   "metadata": {}
  },
  {
   "cell_type": "code",
   "execution_count": null,
   "source": [
    "text = \"Sài Gòn nổi tiếng là thành phố náo nhiệt, see you later, TTS 1 năm có chuyển tokutei gino được không? \"\r\n",
    "tokenizer.tokenize(text), word_tokenize(text)"
   ],
   "outputs": [],
   "metadata": {}
  },
  {
   "cell_type": "code",
   "execution_count": 29,
   "source": [
    "import re\r\n",
    "\r\n",
    "texts =  [\"Nếu thiếu giấy [Jitco](document_type) thì làm thế nào ?\",\r\n",
    "    \"- thiếu [giấy chứng nhận](document_type) thì làm sao ?\",\r\n",
    "    \"- thiếu [chứng chỉ](document_type) em nên làm gì?\",\r\n",
    "    \" Em đang ngành [xây dựng](job_type) muốn chuyển sang ngành [cơ khí](job_type), tư vấn giúp em\"]\r\n",
    "\r\n",
    "for t in texts:\r\n",
    "    o = re.findall(u\"\\]\\([A-Za-z_]+\\)\", t)\r\n",
    "    print(o)\r\n",
    "    # o = o.group().split(\"](\")[1][:-1]\r\n",
    "    # print(o)"
   ],
   "outputs": [
    {
     "output_type": "stream",
     "name": "stdout",
     "text": [
      "['](document_type)']\n",
      "['](document_type)']\n",
      "['](document_type)']\n",
      "['](job_type)', '](job_type)']\n"
     ]
    }
   ],
   "metadata": {}
  }
 ],
 "metadata": {
  "orig_nbformat": 4,
  "language_info": {
   "name": "python",
   "version": "3.7.9",
   "mimetype": "text/x-python",
   "codemirror_mode": {
    "name": "ipython",
    "version": 3
   },
   "pygments_lexer": "ipython3",
   "nbconvert_exporter": "python",
   "file_extension": ".py"
  },
  "kernelspec": {
   "name": "python3",
   "display_name": "Python 3.7.9 64-bit"
  },
  "interpreter": {
   "hash": "0d4bc70c65d06e1543861fe65a0e2a7420176491a9e60a2c8babf4d7456b2d28"
  }
 },
 "nbformat": 4,
 "nbformat_minor": 2
}